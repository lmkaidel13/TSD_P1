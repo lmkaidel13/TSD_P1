{
 "cells": [
  {
   "cell_type": "markdown",
   "metadata": {},
   "source": [
    "### Calculations for Circular Heat Sink Design"
   ]
  },
  {
   "cell_type": "code",
   "execution_count": 1,
   "metadata": {},
   "outputs": [],
   "source": [
    "import numpy as np\n",
    "from matplotlib import pyplot as plt\n",
    "%matplotlib inline"
   ]
  },
  {
   "cell_type": "code",
   "execution_count": 10,
   "metadata": {},
   "outputs": [],
   "source": [
    "D=0.05 #outer diameter [m]\n",
    "N= 18 #number of fins\n",
    "Di=0.02 #inner diamter [m]\n",
    "t= 0.002 #thickness of fin [m]\n",
    "l=0.03 #length of indv fin [m]\n",
    "w=0.01 #width of indv fin [m] also thickness of entire body [m]\n",
    "D_ax=0.01 #diameter of axis hole \n",
    "rho= 2730 #density of Al 3003 [kg/m^3]"
   ]
  },
  {
   "cell_type": "code",
   "execution_count": 12,
   "metadata": {},
   "outputs": [
    {
     "name": "stdout",
     "output_type": "stream",
     "text": [
      "1.3156194490192347e-05\n",
      "35.91641095822511\n"
     ]
    }
   ],
   "source": [
    "V_tot=((np.pi*((Di/2)**2))*w)-((np.pi*((D_ax/2)**2))*w)+N*(t*l*w) #total volume of body [m^3]\n",
    "print(V_tot)\n",
    "m_tot= rho*V_tot*1000 #total mass of body [g]\n",
    "print(m_tot)"
   ]
  },
  {
   "cell_type": "code",
   "execution_count": null,
   "metadata": {},
   "outputs": [],
   "source": []
  }
 ],
 "metadata": {
  "kernelspec": {
   "display_name": "Python 3",
   "language": "python",
   "name": "python3"
  },
  "language_info": {
   "codemirror_mode": {
    "name": "ipython",
    "version": 3
   },
   "file_extension": ".py",
   "mimetype": "text/x-python",
   "name": "python",
   "nbconvert_exporter": "python",
   "pygments_lexer": "ipython3",
   "version": "3.8.5"
  }
 },
 "nbformat": 4,
 "nbformat_minor": 4
}
